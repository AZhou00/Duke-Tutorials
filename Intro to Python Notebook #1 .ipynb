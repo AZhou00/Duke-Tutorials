{
 "cells": [
  {
   "cell_type": "markdown",
   "metadata": {},
   "source": [
    "# Intro to Python Notebook #1 \n",
    "\n",
    "The first notebook in a series of tutorial intro to python notebooks. \n",
    "\n",
    "author: Emily PL, elp25@duke.edu \n",
    "last tested: \n",
    "\n",
    "Topics covered: \n",
    "\n",
    "* installing python and jupyter \n",
    "* running python\n",
    "* variables\n",
    "\n",
    "TODO: add exercises\n",
    "\n",
    "\n",
    "References: *Python Data Science Handbook*, Jake VanderPlas. *Effective Computation in Physics*, Anthony Scopatz & Katheryn D. Huff "
   ]
  },
  {
   "cell_type": "markdown",
   "metadata": {},
   "source": [
    "## Part 0: Installing Python and Jupyter \n",
    "\n",
    "This notebook can be run on your laptop, but you will need python and Jupyter. \n",
    "The recommended way to setup python is with Anaconda.  Installation instructions for different operating systems can be found here: https://docs.conda.io/projects/conda/en/latest/user-guide/install/index.html \n",
    "\n",
    "You can then launch Jupyter by typing:\n",
    "<br>\n",
    "``jupyter notebook`` \n",
    "\n",
    "TODO: instructions for setting up python / jupyter notebook on the cosmology machines"
   ]
  },
  {
   "cell_type": "markdown",
   "metadata": {},
   "source": [
    "## Part 1:  Running Python\n",
    "\n",
    "You're now ready to get started with python! But what exactly is python? Python is a **programming language** that is general-purpose, and high-level. It is extremeley popular in science, engineering and big data fields.  It is designed to be accessible and fun to use - in fact the name comes from the popular British comedy group Monty Python.  Python works as an **interpreter** and translates python **source code** into instructions for your computer's processor. "
   ]
  },
  {
   "cell_type": "markdown",
   "metadata": {},
   "source": [
    "For example, we can send the instructions to print a message with the print command, to run this cell, click on it, and hit shift+enter this tells jupyter to execute the command. "
   ]
  },
  {
   "cell_type": "code",
   "execution_count": 2,
   "metadata": {},
   "outputs": [
    {
     "name": "stdout",
     "output_type": "stream",
     "text": [
      "Go Duke Devils go!\n"
     ]
    }
   ],
   "source": [
    "print('Go Duke Devils go!')"
   ]
  },
  {
   "cell_type": "markdown",
   "metadata": {},
   "source": [
    "This tutorial is in a jupyter notebook. However, python can also be written in text files. If you run the command \"python\" on a file whose name ends in *.py* then Python will execute all of the code in the file. You can try this out by opening up a terminal, cd'ing to this directory and typing \"python hello_world.py\" "
   ]
  },
  {
   "cell_type": "markdown",
   "metadata": {},
   "source": [
    "## Part 2: Variables"
   ]
  },
  {
   "cell_type": "markdown",
   "metadata": {},
   "source": [
    "Typing phrases is fun, but our ultimate goal is to be able to use python for science and computation. Just as we did in computation by hand, we can start by defining variables. "
   ]
  },
  {
   "cell_type": "markdown",
   "metadata": {},
   "source": [
    "Variables can be assigned a name and a value with the \"=\" sign, this is called an assignment statement: "
   ]
  },
  {
   "cell_type": "code",
   "execution_count": 5,
   "metadata": {},
   "outputs": [],
   "source": [
    "h_bar = 1.05457e-34"
   ]
  },
  {
   "cell_type": "code",
   "execution_count": 6,
   "metadata": {},
   "outputs": [
    {
     "name": "stdout",
     "output_type": "stream",
     "text": [
      "1.05457e-34\n"
     ]
    }
   ],
   "source": [
    "print(h_bar)"
   ]
  },
  {
   "cell_type": "markdown",
   "metadata": {},
   "source": [
    "Once variables are assigned a value, they can be manipulated however we want: "
   ]
  },
  {
   "cell_type": "code",
   "execution_count": 7,
   "metadata": {},
   "outputs": [
    {
     "name": "stdout",
     "output_type": "stream",
     "text": [
      "6.6260531326e-34\n"
     ]
    }
   ],
   "source": [
    "pi = 3.14159\n",
    "h = 2*pi*h_bar\n",
    "print(h)"
   ]
  },
  {
   "cell_type": "markdown",
   "metadata": {},
   "source": [
    "All variables are a certain type that dictates how it is used. Each type has different properties."
   ]
  },
  {
   "cell_type": "code",
   "execution_count": 1,
   "metadata": {},
   "outputs": [],
   "source": [
    "# Here are some examples\n",
    "# By the way, the # symbol is a way to add a comment, these lines will not be run by the \n",
    "# interpreter, and serve to add context to the code being run \n",
    "\n",
    "x = 1  # int, only digits\n",
    "x = 1.0  # float, because of the '.', note that re-defining x in this way resets it to a new value\n",
    "x = 1.05457e-34  # also a float because of the '.' and 'e'\n",
    "x = 'Duke Devils'  # str, defined by quotes around text\n",
    "x = True  # bool"
   ]
  },
  {
   "cell_type": "markdown",
   "metadata": {},
   "source": [
    "You can check the type of a defined variable with type():"
   ]
  },
  {
   "cell_type": "code",
   "execution_count": 12,
   "metadata": {},
   "outputs": [
    {
     "data": {
      "text/plain": [
       "bool"
      ]
     },
     "execution_count": 12,
     "metadata": {},
     "output_type": "execute_result"
    }
   ],
   "source": [
    "type(x)"
   ]
  },
  {
   "cell_type": "markdown",
   "metadata": {},
   "source": [
    "It is possible to convert between types for example: "
   ]
  },
  {
   "cell_type": "code",
   "execution_count": 13,
   "metadata": {},
   "outputs": [
    {
     "data": {
      "text/plain": [
       "1.0"
      ]
     },
     "execution_count": 13,
     "metadata": {},
     "output_type": "execute_result"
    }
   ],
   "source": [
    "float(1)"
   ]
  },
  {
   "cell_type": "code",
   "execution_count": 14,
   "metadata": {},
   "outputs": [
    {
     "data": {
      "text/plain": [
       "28"
      ]
     },
     "execution_count": 14,
     "metadata": {},
     "output_type": "execute_result"
    }
   ],
   "source": [
    "int(\"28\")"
   ]
  },
  {
   "cell_type": "markdown",
   "metadata": {},
   "source": [
    "We have already shown that you can perform multiplication on variables. But there are a number of operators that are possible in python. Here are just a few useful ones: \n",
    "\n",
    "**Arithmetic** \n",
    "\n",
    "* Addition ``x + y`` sum \n",
    "* Subtraction ``x - y`` difference\n",
    "* Multiplication ``x * y`` product \n",
    "* Division ``x/y`` x divided by y  \n",
    "* Modulo ``x%y`` remainder \n",
    "* Exponential ``x ** y`` x to the power of y \n",
    "\n",
    "**Logic Operations** \n",
    "\n",
    "* Negation ``not x`` True becomes False and vice versa\n",
    "* Bitwise invert ``~x`` Changes all zeros to ones and vice versa \n",
    "* Asssertion ``assert x`` Check that bool(x) is True \n",
    "* Equality ``x==y`` True or False\n",
    "* Not Equal ``x!=y`` True or False \n",
    "* Less Than / Greater Than Equal ``x<y`` ``x<=y`` True or False \n",
    "* Greater Than / Greater Than Equal ``x>=y`` ``x>y`` \n",
    "* Containment ``x in y`` True if x is an element of y "
   ]
  },
  {
   "cell_type": "markdown",
   "metadata": {},
   "source": [
    "Another operation we can preform is **indexing**. \n",
    "\n",
    "This allows us to retrieve data from a part of a variable, for example for string: "
   ]
  },
  {
   "cell_type": "code",
   "execution_count": 19,
   "metadata": {},
   "outputs": [],
   "source": [
    "p = 'apple'"
   ]
  },
  {
   "cell_type": "code",
   "execution_count": 32,
   "metadata": {},
   "outputs": [
    {
     "data": {
      "text/plain": [
       "'p'"
      ]
     },
     "execution_count": 32,
     "metadata": {},
     "output_type": "execute_result"
    }
   ],
   "source": [
    "p[2]"
   ]
  },
  {
   "cell_type": "markdown",
   "metadata": {},
   "source": [
    "Note that python starts indexing at 0 (not 1)."
   ]
  },
  {
   "cell_type": "code",
   "execution_count": 31,
   "metadata": {},
   "outputs": [
    {
     "data": {
      "text/plain": [
       "'a'"
      ]
     },
     "execution_count": 31,
     "metadata": {},
     "output_type": "execute_result"
    }
   ],
   "source": [
    "p[0]"
   ]
  },
  {
   "cell_type": "markdown",
   "metadata": {},
   "source": [
    "You can select a longer section of a string as well: "
   ]
  },
  {
   "cell_type": "code",
   "execution_count": 30,
   "metadata": {},
   "outputs": [
    {
     "data": {
      "text/plain": [
       "'app'"
      ]
     },
     "execution_count": 30,
     "metadata": {},
     "output_type": "execute_result"
    }
   ],
   "source": [
    "p[0:3]"
   ]
  },
  {
   "cell_type": "markdown",
   "metadata": {},
   "source": [
    "Note that this produced three letters, not four, these slices are inclusive on the lower end and exclusive on the upper end.\n",
    "\n",
    "You can also count from the back with negative indices: "
   ]
  },
  {
   "cell_type": "code",
   "execution_count": 29,
   "metadata": {},
   "outputs": [
    {
     "data": {
      "text/plain": [
       "'e'"
      ]
     },
     "execution_count": 29,
     "metadata": {},
     "output_type": "execute_result"
    }
   ],
   "source": [
    "p[-1]"
   ]
  },
  {
   "cell_type": "markdown",
   "metadata": {},
   "source": [
    "You can check the length of the new string with len():"
   ]
  },
  {
   "cell_type": "code",
   "execution_count": 28,
   "metadata": {},
   "outputs": [
    {
     "data": {
      "text/plain": [
       "3"
      ]
     },
     "execution_count": 28,
     "metadata": {},
     "output_type": "execute_result"
    }
   ],
   "source": [
    "len(p[0:3])"
   ]
  },
  {
   "cell_type": "markdown",
   "metadata": {},
   "source": [
    "You can also concatenate strings with the + operator: "
   ]
  },
  {
   "cell_type": "code",
   "execution_count": 27,
   "metadata": {},
   "outputs": [
    {
     "data": {
      "text/plain": [
       "'apple'"
      ]
     },
     "execution_count": 27,
     "metadata": {},
     "output_type": "execute_result"
    }
   ],
   "source": [
    "p[0]+p[1:]"
   ]
  },
  {
   "cell_type": "markdown",
   "metadata": {},
   "source": [
    "One very useful feature is to find a certain instance in a string and split along this phrase or letter."
   ]
  },
  {
   "cell_type": "code",
   "execution_count": 35,
   "metadata": {},
   "outputs": [],
   "source": [
    "coachk = 'Krzyzewski'"
   ]
  },
  {
   "cell_type": "code",
   "execution_count": 36,
   "metadata": {},
   "outputs": [
    {
     "data": {
      "text/plain": [
       "['Krz', 'zewski']"
      ]
     },
     "execution_count": 36,
     "metadata": {},
     "output_type": "execute_result"
    }
   ],
   "source": [
    "coachk.split('y')"
   ]
  },
  {
   "cell_type": "code",
   "execution_count": 37,
   "metadata": {},
   "outputs": [
    {
     "data": {
      "text/plain": [
       "['Krzy', 'ski']"
      ]
     },
     "execution_count": 37,
     "metadata": {},
     "output_type": "execute_result"
    }
   ],
   "source": [
    "coachk.split('zew')"
   ]
  },
  {
   "cell_type": "markdown",
   "metadata": {},
   "source": [
    "## Part 3: Python Containers"
   ]
  },
  {
   "cell_type": "markdown",
   "metadata": {},
   "source": [
    "Python has an number of built in data **containers** that can be used to hold other variables. Like variables, these containers come in different types: \n",
    "* lists\n",
    "* tuples \n",
    "* sets\n",
    "* dictionaires \n",
    "\n",
    "We'll next describe and give some examples of these different containers."
   ]
  },
  {
   "cell_type": "markdown",
   "metadata": {},
   "source": [
    "### Lists"
   ]
  },
  {
   "cell_type": "markdown",
   "metadata": {},
   "source": [
    "Lists are one-dimensional ordered containers that can hold any type of Python object.  They have methods for adding and removing elements. Here are some examples: "
   ]
  },
  {
   "cell_type": "code",
   "execution_count": 15,
   "metadata": {},
   "outputs": [],
   "source": [
    "y = 23.21\n",
    "x = ['basketball',3,True,y]"
   ]
  },
  {
   "cell_type": "markdown",
   "metadata": {},
   "source": [
    "They can be indexed in much the same way as strings: "
   ]
  },
  {
   "cell_type": "code",
   "execution_count": 16,
   "metadata": {},
   "outputs": [
    {
     "data": {
      "text/plain": [
       "3"
      ]
     },
     "execution_count": 16,
     "metadata": {},
     "output_type": "execute_result"
    }
   ],
   "source": [
    "x[1]"
   ]
  },
  {
   "cell_type": "markdown",
   "metadata": {},
   "source": [
    "Same with concatenating: "
   ]
  },
  {
   "cell_type": "code",
   "execution_count": 17,
   "metadata": {},
   "outputs": [
    {
     "data": {
      "text/plain": [
       "['duke', 'basketball']"
      ]
     },
     "execution_count": 17,
     "metadata": {},
     "output_type": "execute_result"
    }
   ],
   "source": [
    "x = ['duke']\n",
    "y = ['basketball']\n",
    "x+y"
   ]
  },
  {
   "cell_type": "markdown",
   "metadata": {},
   "source": [
    "You can also make many copies of items in the list:  "
   ]
  },
  {
   "cell_type": "code",
   "execution_count": 18,
   "metadata": {},
   "outputs": [
    {
     "data": {
      "text/plain": [
       "['duke', 'duke', 'duke', 'duke', 'duke']"
      ]
     },
     "execution_count": 18,
     "metadata": {},
     "output_type": "execute_result"
    }
   ],
   "source": [
    "x*5"
   ]
  },
  {
   "cell_type": "markdown",
   "metadata": {},
   "source": [
    "Lists come with a method to append items: "
   ]
  },
  {
   "cell_type": "code",
   "execution_count": 19,
   "metadata": {},
   "outputs": [
    {
     "data": {
      "text/plain": [
       "['duke', 'unc']"
      ]
     },
     "execution_count": 19,
     "metadata": {},
     "output_type": "execute_result"
    }
   ],
   "source": [
    "x.append('unc')\n",
    "x"
   ]
  },
  {
   "cell_type": "markdown",
   "metadata": {},
   "source": [
    "You can also extend a list with multiple items: "
   ]
  },
  {
   "cell_type": "code",
   "execution_count": 20,
   "metadata": {},
   "outputs": [
    {
     "data": {
      "text/plain": [
       "['duke', 'unc', 'syracuse', 'miami']"
      ]
     },
     "execution_count": 20,
     "metadata": {},
     "output_type": "execute_result"
    }
   ],
   "source": [
    "x.extend(['syracuse','miami'])\n",
    "x"
   ]
  },
  {
   "cell_type": "markdown",
   "metadata": {},
   "source": [
    "Items can be removed with del:"
   ]
  },
  {
   "cell_type": "code",
   "execution_count": 21,
   "metadata": {},
   "outputs": [
    {
     "data": {
      "text/plain": [
       "['duke', 'unc', 'miami']"
      ]
     },
     "execution_count": 21,
     "metadata": {},
     "output_type": "execute_result"
    }
   ],
   "source": [
    "del x[2]\n",
    "x"
   ]
  },
  {
   "cell_type": "markdown",
   "metadata": {},
   "source": [
    "And added at specific indices: "
   ]
  },
  {
   "cell_type": "code",
   "execution_count": 22,
   "metadata": {},
   "outputs": [
    {
     "data": {
      "text/plain": [
       "['duke', 'unc', 'syracuse']"
      ]
     },
     "execution_count": 22,
     "metadata": {},
     "output_type": "execute_result"
    }
   ],
   "source": [
    "x[2] = 'syracuse'\n",
    "x"
   ]
  },
  {
   "cell_type": "markdown",
   "metadata": {},
   "source": [
    "Lists also have the ``.pop`` method, which returns an element from a list, and deletes it from that list:"
   ]
  },
  {
   "cell_type": "code",
   "execution_count": 23,
   "metadata": {},
   "outputs": [
    {
     "data": {
      "text/plain": [
       "'syracuse'"
      ]
     },
     "execution_count": 23,
     "metadata": {},
     "output_type": "execute_result"
    }
   ],
   "source": [
    "x.pop()  # the default returns and deletes the last item from the list"
   ]
  },
  {
   "cell_type": "code",
   "execution_count": 24,
   "metadata": {},
   "outputs": [
    {
     "data": {
      "text/plain": [
       "'duke'"
      ]
     },
     "execution_count": 24,
     "metadata": {},
     "output_type": "execute_result"
    }
   ],
   "source": [
    "x.pop(0)  # you can also specify an index for the value in the list"
   ]
  },
  {
   "cell_type": "markdown",
   "metadata": {},
   "source": [
    "## Exercise #1"
   ]
  },
  {
   "cell_type": "markdown",
   "metadata": {},
   "source": [
    "Try: \n",
    "    \n",
    "* Create a eight element list\n",
    "* Test out the .sort() method! \n",
    "* Set the fourth element to a new value\n",
    "* Remove the first three elements of the list\n",
    "* Assign -1 to each odd element \n"
   ]
  },
  {
   "cell_type": "markdown",
   "metadata": {},
   "source": [
    "### Tuples"
   ]
  },
  {
   "cell_type": "markdown",
   "metadata": {},
   "source": [
    "Tuples are very similar to lists, except that they are immutable. There are no append, or extend methods or in-place operators. \n",
    "\n",
    "Here are some examples: "
   ]
  },
  {
   "cell_type": "code",
   "execution_count": 71,
   "metadata": {},
   "outputs": [],
   "source": [
    "a = 1,2,5,3  # tuples are defined by commas"
   ]
  },
  {
   "cell_type": "code",
   "execution_count": 70,
   "metadata": {},
   "outputs": [],
   "source": [
    "b = (42,)"
   ]
  },
  {
   "cell_type": "code",
   "execution_count": 72,
   "metadata": {},
   "outputs": [
    {
     "data": {
      "text/plain": [
       "int"
      ]
     },
     "execution_count": 72,
     "metadata": {},
     "output_type": "execute_result"
    }
   ],
   "source": [
    "type((42))  # without a comma they won't be a tuple"
   ]
  },
  {
   "cell_type": "markdown",
   "metadata": {},
   "source": [
    "At the moment, tuples might seem that much more useful than lists. However, they will become integral how we use functions which wil be covered shortly.  One general rule of thumb for how tuples are used vs. lists, is that lists tend to be used for homogenous datasets (e.g. lists of strings, numbers) and tuples are used for heterogenous data."
   ]
  },
  {
   "cell_type": "markdown",
   "metadata": {},
   "source": [
    "### Sets\n",
    "\n",
    "Sets are python containers that act just like mathematical sets. They are unordered, and contain unique values. You can perform operations like union, and intersections."
   ]
  },
  {
   "cell_type": "code",
   "execution_count": 74,
   "metadata": {},
   "outputs": [],
   "source": [
    "a = set([1,2,3])\n",
    "b = set([3,4,5])"
   ]
  },
  {
   "cell_type": "code",
   "execution_count": 77,
   "metadata": {},
   "outputs": [
    {
     "name": "stdout",
     "output_type": "stream",
     "text": [
      "{1, 2, 3, 4, 5}\n",
      "{3}\n",
      "{1, 2}\n"
     ]
    }
   ],
   "source": [
    "print(a | b)  # a union b \n",
    "print(a & b)  # a intersect b\n",
    "print(a-b)  # a-b\n",
    "a.add(1)  # duplicate values are ignored"
   ]
  },
  {
   "cell_type": "code",
   "execution_count": 76,
   "metadata": {},
   "outputs": [
    {
     "name": "stdout",
     "output_type": "stream",
     "text": [
      "{1, 2, 3}\n",
      "True False\n"
     ]
    }
   ],
   "source": [
    "print(a)  # duplicates not allowed\n",
    "print(1 in a, 1 in b)  # check for membership"
   ]
  },
  {
   "cell_type": "markdown",
   "metadata": {},
   "source": [
    "### Dictionaries"
   ]
  },
  {
   "cell_type": "markdown",
   "metadata": {},
   "source": [
    "Dictionaries are incredibly useful data structures in Python. Dictionaries are mutable and unordered.  They are a collection of unique keys, that correspond to various values. "
   ]
  },
  {
   "cell_type": "code",
   "execution_count": 78,
   "metadata": {},
   "outputs": [],
   "source": [
    "duke_mbb = {'Grayson Allen':'SG','Marvin Bagley III':'PF','Wendell Carter Jr.':'PF'}"
   ]
  },
  {
   "cell_type": "code",
   "execution_count": 79,
   "metadata": {},
   "outputs": [
    {
     "data": {
      "text/plain": [
       "'PF'"
      ]
     },
     "execution_count": 79,
     "metadata": {},
     "output_type": "execute_result"
    }
   ],
   "source": [
    "duke_mbb['Marvin Bagley III']"
   ]
  },
  {
   "cell_type": "markdown",
   "metadata": {},
   "source": [
    "You can assign all types of python objects to a dictionary key value, including lists.  "
   ]
  },
  {
   "cell_type": "code",
   "execution_count": 81,
   "metadata": {},
   "outputs": [],
   "source": [
    "ncaa = {'ACC':x}"
   ]
  },
  {
   "cell_type": "code",
   "execution_count": 82,
   "metadata": {},
   "outputs": [
    {
     "data": {
      "text/plain": [
       "['duke', 'unc', 'syracuse']"
      ]
     },
     "execution_count": 82,
     "metadata": {},
     "output_type": "execute_result"
    }
   ],
   "source": [
    "ncaa['ACC']"
   ]
  },
  {
   "cell_type": "markdown",
   "metadata": {},
   "source": [
    "You can add items to an existing dictionary: "
   ]
  },
  {
   "cell_type": "code",
   "execution_count": 83,
   "metadata": {},
   "outputs": [],
   "source": [
    "duke_mbb['Gary Trent Jr.'] = 'SG'"
   ]
  },
  {
   "cell_type": "markdown",
   "metadata": {},
   "source": [
    "You can also change the value for an existing key: "
   ]
  },
  {
   "cell_type": "code",
   "execution_count": 84,
   "metadata": {},
   "outputs": [],
   "source": [
    "duke_mbb['Wendell Carter Jr.'] = 'C'"
   ]
  },
  {
   "cell_type": "markdown",
   "metadata": {},
   "source": [
    "You can create an empty dictionary to populate later with curly brackets: "
   ]
  },
  {
   "cell_type": "code",
   "execution_count": 86,
   "metadata": {},
   "outputs": [],
   "source": [
    "d = {}"
   ]
  },
  {
   "cell_type": "markdown",
   "metadata": {},
   "source": [
    "The update method allows you to update an existing dictionary with the key/value pairs from another dictionary:"
   ]
  },
  {
   "cell_type": "code",
   "execution_count": 87,
   "metadata": {},
   "outputs": [],
   "source": [
    "d.update(ncaa)"
   ]
  },
  {
   "cell_type": "code",
   "execution_count": 88,
   "metadata": {},
   "outputs": [
    {
     "data": {
      "text/plain": [
       "{'ACC': ['duke', 'unc', 'syracuse']}"
      ]
     },
     "execution_count": 88,
     "metadata": {},
     "output_type": "execute_result"
    }
   ],
   "source": [
    "d"
   ]
  },
  {
   "cell_type": "markdown",
   "metadata": {},
   "source": [
    "## Part 4: Logic and Loops"
   ]
  },
  {
   "cell_type": "markdown",
   "metadata": {},
   "source": [
    "Programming is built up of decisions. At each stage whether or not a command executes or which command executes is determined via **flow control**.  Logic in the form of python determines the execution pathway for the program. These logic and loops are deliminated with white space. There are three froms of this in python: \n",
    "* conditionals \n",
    "* exceptions \n",
    "* loops"
   ]
  },
  {
   "cell_type": "markdown",
   "metadata": {},
   "source": [
    "### Conditionals\n",
    "\n",
    "Conditionals follow the syntax \"if x is true, then do something, else, do something else.\" "
   ]
  },
  {
   "cell_type": "code",
   "execution_count": 89,
   "metadata": {},
   "outputs": [
    {
     "name": "stdout",
     "output_type": "stream",
     "text": [
      "x\n"
     ]
    }
   ],
   "source": [
    "# example if statement \n",
    "\n",
    "x = True \n",
    "if x:\n",
    "    print('x')"
   ]
  },
  {
   "cell_type": "markdown",
   "metadata": {},
   "source": [
    "The expression in the if statement can be more complex than one boolean (for example we can use the **logic operations** from part 2):"
   ]
  },
  {
   "cell_type": "code",
   "execution_count": 90,
   "metadata": {},
   "outputs": [
    {
     "name": "stdout",
     "output_type": "stream",
     "text": [
      "y is the biggest\n"
     ]
    }
   ],
   "source": [
    "x = 2 \n",
    "y = 3 \n",
    "\n",
    "if x>y:\n",
    "    print('x is the biggest')\n",
    "elif x<y:  # elif means, else, if this is true \n",
    "    print('y is the biggest')\n",
    "else:\n",
    "    print('who knows!')"
   ]
  },
  {
   "cell_type": "markdown",
   "metadata": {},
   "source": [
    "### Exceptions"
   ]
  },
  {
   "cell_type": "markdown",
   "metadata": {},
   "source": [
    "If you have been running this notebook and trying new things out in the blocks then you might have encountered an error. For example if we try to compare a variable to x that we haven't defined yet we will get one: "
   ]
  },
  {
   "cell_type": "code",
   "execution_count": 91,
   "metadata": {},
   "outputs": [
    {
     "ename": "NameError",
     "evalue": "name 'z' is not defined",
     "output_type": "error",
     "traceback": [
      "\u001b[0;31m---------------------------------------------------------------------------\u001b[0m",
      "\u001b[0;31mNameError\u001b[0m                                 Traceback (most recent call last)",
      "\u001b[0;32m<ipython-input-91-fcb23027234b>\u001b[0m in \u001b[0;36m<module>\u001b[0;34m\u001b[0m\n\u001b[0;32m----> 1\u001b[0;31m \u001b[0mx\u001b[0m\u001b[0;34m>\u001b[0m\u001b[0mz\u001b[0m\u001b[0;34m\u001b[0m\u001b[0;34m\u001b[0m\u001b[0m\n\u001b[0m",
      "\u001b[0;31mNameError\u001b[0m: name 'z' is not defined"
     ]
    }
   ],
   "source": [
    "x>z"
   ]
  },
  {
   "cell_type": "markdown",
   "metadata": {},
   "source": [
    "There are a number of different types of errors for example this cause a \"NameError\" when z wasn't defined. Sometimes we would like to write code that is meant to handle errors, we can do this with try-except blocks. "
   ]
  },
  {
   "cell_type": "code",
   "execution_count": 93,
   "metadata": {},
   "outputs": [
    {
     "data": {
      "text/plain": [
       "True"
      ]
     },
     "execution_count": 93,
     "metadata": {},
     "output_type": "execute_result"
    }
   ],
   "source": [
    "try: \n",
    "    x>z  # this is designed to fail \n",
    "except:  # now we can define z \n",
    "    z=1\n",
    "x>z  # and now we don't get an error! "
   ]
  },
  {
   "cell_type": "markdown",
   "metadata": {},
   "source": [
    "We can even be specific about how we handle certain errors: "
   ]
  },
  {
   "cell_type": "code",
   "execution_count": 96,
   "metadata": {},
   "outputs": [
    {
     "data": {
      "text/plain": [
       "2"
      ]
     },
     "execution_count": 96,
     "metadata": {},
     "output_type": "execute_result"
    }
   ],
   "source": [
    "z = 'Zion'\n",
    "try: \n",
    "    x>z  # this is designed to fail \n",
    "except NameError:  # now we can define z \n",
    "    z = 1\n",
    "except TypeError: \n",
    "    z = 2\n",
    "z  # because comparing an int to a str results in a TypeError, the second exception is executed"
   ]
  },
  {
   "cell_type": "markdown",
   "metadata": {},
   "source": [
    "You can also raise an error if you would like to flag specific cases: "
   ]
  },
  {
   "cell_type": "code",
   "execution_count": 97,
   "metadata": {},
   "outputs": [
    {
     "ename": "TypeError",
     "evalue": "",
     "output_type": "error",
     "traceback": [
      "\u001b[0;31m---------------------------------------------------------------------------\u001b[0m",
      "\u001b[0;31mTypeError\u001b[0m                                 Traceback (most recent call last)",
      "\u001b[0;32m<ipython-input-97-d72ff04342c1>\u001b[0m in \u001b[0;36m<module>\u001b[0;34m\u001b[0m\n\u001b[1;32m      1\u001b[0m \u001b[0;32mif\u001b[0m \u001b[0mz\u001b[0m\u001b[0;34m==\u001b[0m\u001b[0;36m2\u001b[0m\u001b[0;34m:\u001b[0m\u001b[0;34m\u001b[0m\u001b[0;34m\u001b[0m\u001b[0m\n\u001b[0;32m----> 2\u001b[0;31m     \u001b[0;32mraise\u001b[0m \u001b[0mTypeError\u001b[0m\u001b[0;34m\u001b[0m\u001b[0;34m\u001b[0m\u001b[0m\n\u001b[0m",
      "\u001b[0;31mTypeError\u001b[0m: "
     ]
    }
   ],
   "source": [
    "if z==2:\n",
    "    raise TypeError"
   ]
  },
  {
   "cell_type": "markdown",
   "metadata": {},
   "source": [
    "### Loops"
   ]
  },
  {
   "cell_type": "markdown",
   "metadata": {},
   "source": [
    "So far, we have been executing commands once block-by-block. However, loops allow us to execute the same block multiple times. The types of loops are: \n",
    "* while\n",
    "* for \n",
    "* comprehensions"
   ]
  },
  {
   "cell_type": "markdown",
   "metadata": {},
   "source": [
    "### while loops"
   ]
  },
  {
   "cell_type": "markdown",
   "metadata": {},
   "source": [
    "while loops like if statements execute if a statement is True, however, they will continually execute *while* the statement is True "
   ]
  },
  {
   "cell_type": "code",
   "execution_count": 100,
   "metadata": {},
   "outputs": [
    {
     "name": "stdout",
     "output_type": "stream",
     "text": [
      "t-minus 3\n",
      "t-minus 2\n",
      "t-minus 1\n",
      "blastoff!\n"
     ]
    }
   ],
   "source": [
    "# example while loop \n",
    "t = 3 \n",
    "while 0 < t: \n",
    "    print('t-minus '+str(t))\n",
    "    t = t-1\n",
    "print('blastoff!')"
   ]
  },
  {
   "cell_type": "markdown",
   "metadata": {},
   "source": [
    "It's possible to cause Python to leave a loop early with a *break* statement. This can be written in with an if statement *nested* in the while loop with an extra indentation."
   ]
  },
  {
   "cell_type": "code",
   "execution_count": 101,
   "metadata": {},
   "outputs": [],
   "source": [
    "fib = [1,1]\n",
    "while True: \n",
    "    x = fib[-2]+fib[-1]\n",
    "    if x%12==0:\n",
    "        break\n",
    "    fib.append(x)"
   ]
  },
  {
   "cell_type": "code",
   "execution_count": 102,
   "metadata": {},
   "outputs": [
    {
     "data": {
      "text/plain": [
       "[1, 1, 2, 3, 5, 8, 13, 21, 34, 55, 89]"
      ]
     },
     "execution_count": 102,
     "metadata": {},
     "output_type": "execute_result"
    }
   ],
   "source": [
    "fib"
   ]
  },
  {
   "cell_type": "markdown",
   "metadata": {},
   "source": [
    "### for loops"
   ]
  },
  {
   "cell_type": "markdown",
   "metadata": {},
   "source": [
    "While loops are useful for repeating statements, but more often it's useful to iterate through a container and grab an element each time.  For example you can use for loops to explicitly iterate through keys, values and items using .keys(), .values(), and .items(). "
   ]
  },
  {
   "cell_type": "code",
   "execution_count": 105,
   "metadata": {},
   "outputs": [
    {
     "name": "stdout",
     "output_type": "stream",
     "text": [
      "Grayson Allen\n",
      "Marvin Bagley III\n",
      "Wendell Carter Jr.\n",
      "Gary Trent Jr.\n"
     ]
    }
   ],
   "source": [
    "for player in duke_mbb.keys():\n",
    "    print(player)"
   ]
  },
  {
   "cell_type": "markdown",
   "metadata": {},
   "source": [
    "The range() option allows you to iterate a loop for a certain number of rounds: "
   ]
  },
  {
   "cell_type": "code",
   "execution_count": 108,
   "metadata": {},
   "outputs": [
    {
     "name": "stdout",
     "output_type": "stream",
     "text": [
      "counting up 1\n",
      "counting up 2\n",
      "counting up 3\n"
     ]
    }
   ],
   "source": [
    "for t in range(1,4,1):  # this is inclusive for the lower bound and exclusive for the upper\n",
    "    print('counting up '+str(t))  # (1,4,1) means count [1,4) by 1 "
   ]
  },
  {
   "cell_type": "markdown",
   "metadata": {},
   "source": [
    "### comprehensions"
   ]
  },
  {
   "cell_type": "markdown",
   "metadata": {},
   "source": [
    "For and while loops are very useful but they often take up many lines of code. Comprehensions allow a whole loop to be done in one line. List, set and dictionary comprehensions are available for simpler for loops:"
   ]
  },
  {
   "cell_type": "code",
   "execution_count": 110,
   "metadata": {},
   "outputs": [
    {
     "data": {
      "text/plain": [
       "[0, 1, 2, 3]"
      ]
     },
     "execution_count": 110,
     "metadata": {},
     "output_type": "execute_result"
    }
   ],
   "source": [
    "count_list = [i for i in range(4)]  # without specifying the step range default counts by 1 \n",
    "count_list"
   ]
  },
  {
   "cell_type": "code",
   "execution_count": 118,
   "metadata": {},
   "outputs": [
    {
     "name": "stdout",
     "output_type": "stream",
     "text": [
      "0 0\n",
      "1 1\n",
      "2 8\n",
      "3 27\n",
      "4 64\n",
      "5 125\n",
      "6 216\n",
      "7 343\n",
      "8 512\n",
      "9 729\n"
     ]
    }
   ],
   "source": [
    "cubes = {x:x**3 for x in range(10)}\n",
    "for x, cubed in cubes.items():\n",
    "    print(x, cubed)"
   ]
  },
  {
   "cell_type": "markdown",
   "metadata": {},
   "source": [
    "You can optionally add a filter, and only populate your container with items that meet a criteria: "
   ]
  },
  {
   "cell_type": "code",
   "execution_count": 124,
   "metadata": {},
   "outputs": [],
   "source": [
    "best_teams = [team for team in ncaa['ACC'] if team.startswith('d')]"
   ]
  },
  {
   "cell_type": "code",
   "execution_count": 125,
   "metadata": {},
   "outputs": [
    {
     "data": {
      "text/plain": [
       "['duke']"
      ]
     },
     "execution_count": 125,
     "metadata": {},
     "output_type": "execute_result"
    }
   ],
   "source": [
    "best_teams"
   ]
  },
  {
   "cell_type": "markdown",
   "metadata": {},
   "source": [
    "## Part 5: Functions"
   ]
  },
  {
   "cell_type": "markdown",
   "metadata": {},
   "source": [
    "The beauty of writing code, is its reusibility. Once you've written something that's useful, you can call it again, and again and again! Defining a set of commands in a **function** allows you to execute many different actions in just one line. "
   ]
  },
  {
   "cell_type": "markdown",
   "metadata": {},
   "source": [
    "Python functions act like mathematical functions, in that they take an input and performs actions on the input.  They may or may not return values as the last operation. They are defined wih def: "
   ]
  },
  {
   "cell_type": "code",
   "execution_count": 135,
   "metadata": {},
   "outputs": [],
   "source": [
    "def advise(topic):\n",
    "    \"\"\"Advise the caller with the wisdom of Coach k.\n",
    "     Args:\n",
    "        topic (str): Topic that you would like advice on.\n",
    "    \"\"\"  # docstrings give a description of the function\n",
    "    if topic=='teamwork':\n",
    "        print('Effective teamwork begins and ends with communication.')\n",
    "    elif topic=='believe':\n",
    "        print('Believe that the loose ball that you are chasing has your name on it.')\n",
    "    elif topic=='eye contact':\n",
    "        print('Throughout the season, I look into my players’ eyes to gauge feelings, confidence levels, and to establish instant trust.')\n",
    "    else:\n",
    "        print('Sorry coach needs a different topic!')"
   ]
  },
  {
   "cell_type": "code",
   "execution_count": 133,
   "metadata": {},
   "outputs": [
    {
     "name": "stdout",
     "output_type": "stream",
     "text": [
      "Effective teamwork begins and ends with communication.\n"
     ]
    }
   ],
   "source": [
    "# Calling the function \n",
    "advise('teamwork')"
   ]
  },
  {
   "cell_type": "code",
   "execution_count": 134,
   "metadata": {},
   "outputs": [
    {
     "name": "stdout",
     "output_type": "stream",
     "text": [
      "Help on function advise in module __main__:\n",
      "\n",
      "advise(topic)\n",
      "    Advise the caller with the wisdom of Coach k.\n",
      "    Args:\n",
      "       topic (str): Topic that you would like advice on.\n",
      "\n"
     ]
    }
   ],
   "source": [
    "# We can get information about our function with the help option whic links to the doc string\n",
    "help(advise)"
   ]
  },
  {
   "cell_type": "markdown",
   "metadata": {},
   "source": [
    "You can also define a function that returns an item."
   ]
  },
  {
   "cell_type": "code",
   "execution_count": 137,
   "metadata": {},
   "outputs": [],
   "source": [
    "def rank_team(team):\n",
    "    \"\"\"Rank an input team.\n",
    "     Args:\n",
    "        team (str): Team that you would like to rank.\n",
    "    \"\"\"\n",
    "    \n",
    "    if team=='Duke':\n",
    "        rank = 1\n",
    "    elif team=='UNC':\n",
    "        rank = 0 \n",
    "    else:\n",
    "        print(\"Sorry I don't know that team.\")\n",
    "    return rank"
   ]
  },
  {
   "cell_type": "code",
   "execution_count": 138,
   "metadata": {},
   "outputs": [],
   "source": [
    "duke_rank = rank_team('Duke')\n",
    "unc_rank = rank_team('UNC')"
   ]
  },
  {
   "cell_type": "code",
   "execution_count": 139,
   "metadata": {},
   "outputs": [
    {
     "name": "stdout",
     "output_type": "stream",
     "text": [
      "UNC is  0\n",
      "Duke is # 1\n"
     ]
    }
   ],
   "source": [
    "print('UNC is ',unc_rank)\n",
    "print('Duke is #',duke_rank)"
   ]
  },
  {
   "cell_type": "markdown",
   "metadata": {},
   "source": [
    "## Exercise # 2 "
   ]
  },
  {
   "cell_type": "markdown",
   "metadata": {},
   "source": [
    "Write a Python function which accepts the radius of a circle from the user and computes the area."
   ]
  },
  {
   "cell_type": "markdown",
   "metadata": {},
   "source": [
    "We'll use functions more when we learn to define classes and objects. "
   ]
  },
  {
   "cell_type": "markdown",
   "metadata": {},
   "source": [
    "That's all for now, you're ready to try the exercises and then move on to the next notebook! :) "
   ]
  },
  {
   "cell_type": "code",
   "execution_count": null,
   "metadata": {},
   "outputs": [],
   "source": []
  }
 ],
 "metadata": {
  "kernelspec": {
   "display_name": "Python 3",
   "language": "python",
   "name": "python3"
  },
  "language_info": {
   "codemirror_mode": {
    "name": "ipython",
    "version": 3
   },
   "file_extension": ".py",
   "mimetype": "text/x-python",
   "name": "python",
   "nbconvert_exporter": "python",
   "pygments_lexer": "ipython3",
   "version": "3.7.3"
  }
 },
 "nbformat": 4,
 "nbformat_minor": 2
}
